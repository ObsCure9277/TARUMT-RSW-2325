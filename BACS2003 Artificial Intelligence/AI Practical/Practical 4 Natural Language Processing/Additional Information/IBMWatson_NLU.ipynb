{
 "cells": [
  {
   "cell_type": "markdown",
   "metadata": {},
   "source": [
    "# Natural_Language_Understanding\n"
   ]
  },
  {
   "cell_type": "markdown",
   "metadata": {},
   "source": [
    "Step 1: Login to IBM Cloud using your personal email\n",
    "\n",
    "https://cloud.ibm.com/\n",
    "\n",
    "\n",
    "Step 2: Search Natural Language Understanding \n",
    "\n",
    "Step 2(a): Create a \"Lite Plan\"\n",
    "\n",
    "Step 3: Go to \"Manage\" of the __LEFT__ panel -> \"Show Credential\" -> copy the API Key and URL\n",
    "\n",
    "Step 4: https://cloud.ibm.com/apidocs/natural-language-understanding?code=python Start Exploring\n"
   ]
  },
  {
   "cell_type": "markdown",
   "metadata": {},
   "source": [
    "<img src=\"https://i.ibb.co/9v1QSGq/IBM.jpg\" alt=\"IBM\" border=\"0\">"
   ]
  },
  {
   "cell_type": "code",
   "execution_count": null,
   "metadata": {},
   "outputs": [],
   "source": [
    "#pip install watson-developer-cloud\n",
    "pip install ibm-watson"
   ]
  },
  {
   "cell_type": "markdown",
   "metadata": {},
   "source": [
    "## 1.0 Example Categories feature request"
   ]
  },
  {
   "cell_type": "code",
   "execution_count": 11,
   "metadata": {},
   "outputs": [
    {
     "name": "stderr",
     "output_type": "stream",
     "text": [
      "C:\\ProgramData\\Anaconda3\\lib\\site-packages\\ipykernel_launcher.py:8: DeprecationWarning: watson-developer-cloud moved to ibm-watson. To get updates, use the new package.\n",
      "  \n"
     ]
    },
    {
     "name": "stdout",
     "output_type": "stream",
     "text": [
      "{\n",
      "  \"usage\": {\n",
      "    \"text_units\": 1,\n",
      "    \"text_characters\": 1262,\n",
      "    \"features\": 1\n",
      "  },\n",
      "  \"retrieved_url\": \"https://www.ibm.com/us-en/?ar=1\",\n",
      "  \"language\": \"en\",\n",
      "  \"categories\": [\n",
      "    {\n",
      "      \"score\": 0.97437,\n",
      "      \"label\": \"/business and industrial/business software\"\n",
      "    },\n",
      "    {\n",
      "      \"score\": 0.972073,\n",
      "      \"label\": \"/technology and computing/software\"\n",
      "    },\n",
      "    {\n",
      "      \"score\": 0.897315,\n",
      "      \"label\": \"/technology and computing/operating systems\"\n",
      "    }\n",
      "  ]\n",
      "}\n"
     ]
    }
   ],
   "source": [
    "import json\n",
    "from watson_developer_cloud import NaturalLanguageUnderstandingV1\n",
    "from watson_developer_cloud.natural_language_understanding_v1 import Features, CategoriesOptions\n",
    "\n",
    "natural_language_understanding = NaturalLanguageUnderstandingV1(\n",
    "    version='2018-11-16',\n",
    "    iam_apikey='BcdKkcB_mIEaXWTZ03hgQmVLdggCo5f9oTfshz06j1GX',\n",
    "    url='https://api.us-south.natural-language-understanding.watson.cloud.ibm.com/instances/7b57e68a-b5b0-4b0a-a3ca-a4890ec55b86'\n",
    "    \n",
    ")\n",
    "\n",
    "response = natural_language_understanding.analyze(\n",
    "    url='www.ibm.com',\n",
    "    features=Features(categories=CategoriesOptions(limit=3))).get_result()\n",
    "\n",
    "print(json.dumps(response, indent=2))"
   ]
  },
  {
   "cell_type": "markdown",
   "metadata": {},
   "source": [
    "## 2.0 Example Concepts feature request"
   ]
  },
  {
   "cell_type": "code",
   "execution_count": 2,
   "metadata": {},
   "outputs": [
    {
     "name": "stdout",
     "output_type": "stream",
     "text": [
      "{\n",
      "  \"usage\": {\n",
      "    \"text_units\": 1,\n",
      "    \"text_characters\": 1262,\n",
      "    \"features\": 1\n",
      "  },\n",
      "  \"retrieved_url\": \"https://www.ibm.com/us-en/?ar=1\",\n",
      "  \"language\": \"en\",\n",
      "  \"concepts\": [\n",
      "    {\n",
      "      \"text\": \"Future\",\n",
      "      \"relevance\": 0.916671,\n",
      "      \"dbpedia_resource\": \"http://dbpedia.org/resource/Future\"\n",
      "    },\n",
      "    {\n",
      "      \"text\": \"Cybernetics\",\n",
      "      \"relevance\": 0.733666,\n",
      "      \"dbpedia_resource\": \"http://dbpedia.org/resource/Cybernetics\"\n",
      "    },\n",
      "    {\n",
      "      \"text\": \"Automation\",\n",
      "      \"relevance\": 0.73048,\n",
      "      \"dbpedia_resource\": \"http://dbpedia.org/resource/Automation\"\n",
      "    }\n",
      "  ]\n",
      "}\n"
     ]
    }
   ],
   "source": [
    "import json\n",
    "from watson_developer_cloud import NaturalLanguageUnderstandingV1\n",
    "from watson_developer_cloud.natural_language_understanding_v1 import Features, ConceptsOptions\n",
    "\n",
    "\n",
    "response = natural_language_understanding.analyze(\n",
    "    url='www.ibm.com',\n",
    "    features=Features(concepts=ConceptsOptions(limit=3))).get_result()\n",
    "\n",
    "print(json.dumps(response, indent=2))"
   ]
  },
  {
   "cell_type": "markdown",
   "metadata": {},
   "source": [
    "## 3.0 Example Categories feature response"
   ]
  },
  {
   "cell_type": "code",
   "execution_count": 3,
   "metadata": {},
   "outputs": [
    {
     "name": "stdout",
     "output_type": "stream",
     "text": [
      "{\n",
      "  \"usage\": {\n",
      "    \"text_units\": 1,\n",
      "    \"text_characters\": 37,\n",
      "    \"features\": 1\n",
      "  },\n",
      "  \"language\": \"en\",\n",
      "  \"emotion\": {\n",
      "    \"targets\": [\n",
      "      {\n",
      "        \"text\": \"apples\",\n",
      "        \"emotion\": {\n",
      "          \"sadness\": 0.028574,\n",
      "          \"joy\": 0.859042,\n",
      "          \"fear\": 0.02752,\n",
      "          \"disgust\": 0.017519,\n",
      "          \"anger\": 0.012855\n",
      "        }\n",
      "      },\n",
      "      {\n",
      "        \"text\": \"oranges\",\n",
      "        \"emotion\": {\n",
      "          \"sadness\": 0.514253,\n",
      "          \"joy\": 0.078317,\n",
      "          \"fear\": 0.074223,\n",
      "          \"disgust\": 0.058103,\n",
      "          \"anger\": 0.126859\n",
      "        }\n",
      "      }\n",
      "    ],\n",
      "    \"document\": {\n",
      "      \"emotion\": {\n",
      "        \"sadness\": 0.32665,\n",
      "        \"joy\": 0.563273,\n",
      "        \"fear\": 0.033387,\n",
      "        \"disgust\": 0.022637,\n",
      "        \"anger\": 0.041796\n",
      "      }\n",
      "    }\n",
      "  }\n",
      "}\n"
     ]
    }
   ],
   "source": [
    "import json\n",
    "from watson_developer_cloud import NaturalLanguageUnderstandingV1\n",
    "from watson_developer_cloud.natural_language_understanding_v1 import Features, EmotionOptions\n",
    "\n",
    "\n",
    "response = natural_language_understanding.analyze(\n",
    "    html=\"<html><head><title>Fruits</title></head><body><h1>Apples and Oranges</h1><p>I love apples! I don't like oranges.</p></body></html>\",\n",
    "    features=Features(emotion=EmotionOptions(targets=['apples','oranges']))).get_result()\n",
    "\n",
    "print(json.dumps(response, indent=2))"
   ]
  }
 ],
 "metadata": {
  "kernelspec": {
   "display_name": "Python 3",
   "language": "python",
   "name": "python3"
  },
  "language_info": {
   "codemirror_mode": {
    "name": "ipython",
    "version": 3
   },
   "file_extension": ".py",
   "mimetype": "text/x-python",
   "name": "python",
   "nbconvert_exporter": "python",
   "pygments_lexer": "ipython3",
   "version": "3.7.6"
  }
 },
 "nbformat": 4,
 "nbformat_minor": 2
}

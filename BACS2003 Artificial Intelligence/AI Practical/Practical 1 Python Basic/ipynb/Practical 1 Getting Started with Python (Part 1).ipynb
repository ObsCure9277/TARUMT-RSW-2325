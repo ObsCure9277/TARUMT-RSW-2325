{
 "cells": [
  {
   "cell_type": "markdown",
   "metadata": {
    "id": "lvI8f17kbKi7"
   },
   "source": [
    "# Practical 1: Getting Started with Python (Part 1)"
   ]
  },
  {
   "cell_type": "markdown",
   "metadata": {
    "id": "yYQ1d7jMbKi8"
   },
   "source": [
    "## 1 - Number, Variable and Operator"
   ]
  },
  {
   "cell_type": "markdown",
   "metadata": {
    "id": "9v7G-zQGbKi8"
   },
   "source": [
    "### 1.1 - Numbers and Boolean"
   ]
  },
  {
   "cell_type": "code",
   "execution_count": null,
   "metadata": {
    "id": "sHftwdmNbKi9",
    "outputId": "0dd3d571-0bbc-403f-e345-6b7f325b145b"
   },
   "outputs": [],
   "source": [
    "#Integer\n",
    "a = 42343 + 3\n",
    "\n",
    "#Floating Point\n",
    "b = 343.3234 - 2\n",
    "\n",
    "#Binary Number\n",
    "c = 0b101 * 0b10\n",
    "\n",
    "#Hexadecimal Number\n",
    "d =  0x100 / 0x2\n",
    "\n",
    "#Octal Number\n",
    "e = 0o400 / 0o2\n",
    "\n",
    "#Boolean\n",
    "f = True\n",
    "\n",
    "print ('a =', a, 'b =', b, 'c =', c, 'd =', d, 'e =', e, 'f =', f )\n",
    "\n"
   ]
  },
  {
   "cell_type": "code",
   "execution_count": null,
   "metadata": {
    "id": "mH97AMk0bKi-",
    "outputId": "ae87ce89-c3c5-44d8-82d2-373de588ec2a"
   },
   "outputs": [],
   "source": [
    "type(f)"
   ]
  },
  {
   "cell_type": "code",
   "execution_count": null,
   "metadata": {
    "id": "_tDWJz85bKi-",
    "outputId": "0477d7aa-f6cb-476a-ba85-05b0c13cd7f4"
   },
   "outputs": [],
   "source": [
    "#Binary Number\n",
    "d = 0b101 * 0b10\n",
    "print(format(d,'0b'))"
   ]
  },
  {
   "cell_type": "code",
   "execution_count": null,
   "metadata": {
    "id": "vW24PpsabKi-",
    "outputId": "d7c15083-4d15-49ff-8cea-0fba0cd1841b"
   },
   "outputs": [],
   "source": [
    "#Hexadecimal Number\n",
    "e =  0x100 / 0x2\n",
    "type(e)\n",
    "print(format(int(e), '0x'))"
   ]
  },
  {
   "cell_type": "code",
   "execution_count": null,
   "metadata": {
    "id": "16Alc2s_bKi-",
    "outputId": "7e2deb7c-a410-41e6-ce13-af6592dfdfab"
   },
   "outputs": [],
   "source": [
    "#Octal Number\n",
    "f = 0o400 / 0o2\n",
    "print(format(int(f), '0o'))"
   ]
  },
  {
   "cell_type": "markdown",
   "metadata": {
    "id": "Dr4zbQZfbKi_"
   },
   "source": [
    "### 1.2 - Floor Division"
   ]
  },
  {
   "cell_type": "code",
   "execution_count": null,
   "metadata": {
    "id": "4a27-jD3bKi_",
    "outputId": "5c7ae3a7-4dfa-493a-94f7-7945694f8ee7"
   },
   "outputs": [],
   "source": [
    "#Floor Division\n",
    "print (5 // 2)\n",
    "print (5 // 2.0)"
   ]
  },
  {
   "cell_type": "markdown",
   "metadata": {
    "id": "x0A00vCybKi_"
   },
   "source": [
    "### 1.3 - Modulus (finding the remainder)"
   ]
  },
  {
   "cell_type": "code",
   "execution_count": null,
   "metadata": {
    "id": "SOcLkuOzbKi_",
    "outputId": "f5dcec8d-37fb-4143-ca3e-dbac5f5065ae"
   },
   "outputs": [],
   "source": [
    "#Modulus Operator\n",
    "r = 7 % 2\n",
    "print(r)"
   ]
  },
  {
   "cell_type": "markdown",
   "metadata": {
    "id": "Zmn7bbjQbKi_"
   },
   "source": [
    "### 1.4 - Power Operator"
   ]
  },
  {
   "cell_type": "code",
   "execution_count": null,
   "metadata": {
    "id": "9CeNwp69bKi_",
    "outputId": "e7371514-bf62-4210-a522-f4f900704fc2"
   },
   "outputs": [],
   "source": [
    "#Power Operator\n",
    "print (2 ** 4)"
   ]
  },
  {
   "cell_type": "markdown",
   "metadata": {
    "id": "oLhWq-PXbKjA"
   },
   "source": [
    "### 1.5 - String Literal"
   ]
  },
  {
   "cell_type": "code",
   "execution_count": null,
   "metadata": {
    "id": "_7-tNz_obKjA",
    "outputId": "d7135510-5ca8-4457-f763-bd07cf0d2f52"
   },
   "outputs": [],
   "source": [
    "#String Literal\n",
    "print (\"This is Python Programming\\n\")\n",
    "print ('It is Pythonic!')\n",
    "x = 3\n",
    "print(\"Anaconda\", x)"
   ]
  },
  {
   "cell_type": "markdown",
   "metadata": {
    "id": "6tgGhvBbbKjA"
   },
   "source": [
    "### 1.6 Checking the Data Type"
   ]
  },
  {
   "cell_type": "code",
   "execution_count": null,
   "metadata": {
    "colab": {
     "base_uri": "https://localhost:8080/"
    },
    "executionInfo": {
     "elapsed": 6,
     "status": "ok",
     "timestamp": 1711636069017,
     "user": {
      "displayName": "ZAN LAM PANG",
      "userId": "08342235273993939222"
     },
     "user_tz": -480
    },
    "id": "PvJQHw2_bKjA",
    "outputId": "48fa0e53-7e43-4134-fa20-a22b1c054472"
   },
   "outputs": [],
   "source": [
    "a = 5 / 2\n",
    "type(a)"
   ]
  },
  {
   "cell_type": "markdown",
   "metadata": {
    "id": "HzPcr2t-bKjA"
   },
   "source": [
    "## 2 - Random Numbers"
   ]
  },
  {
   "cell_type": "markdown",
   "metadata": {
    "id": "8vcL59i3bKjA"
   },
   "source": [
    "*It is important to import Random library before using the random function*"
   ]
  },
  {
   "cell_type": "code",
   "execution_count": null,
   "metadata": {
    "id": "8djQaHDubKjA",
    "outputId": "4581b0d5-a69f-49a1-9e76-8715959d59eb"
   },
   "outputs": [],
   "source": [
    "import random # important to import Random library before using the random function\n",
    "\n",
    "r1 = random.random()        # Random float x, 0.0 <= x < 1.0\n",
    "\n",
    "r2 = random.uniform(1, 10)  # Random float x, 1.0 <= x < 10.0\n",
    "\n",
    "r3 = random.randint(1, 10)  # Integer from 1 to 10, endpoints included\n",
    "\n",
    "r4 = random.randrange(0, 101, 2)  # Even integer from 0 to 100\n",
    "\n",
    "r5 = random.choice('abcdefghij')  # Choose a random element\n",
    "\n",
    "elements = random.sample([1, 2, 3, 4, 5],  3)  # Choose 3 elements\n",
    "\n",
    "items = [1, 2, 3, 4, 5, 6, 7] # Reshuffle items in a list random.shuffle(items) print items\n",
    "r6 = random.shuffle(items)\n",
    "print(items)"
   ]
  },
  {
   "cell_type": "markdown",
   "metadata": {
    "id": "QSxN0VJQbKjA"
   },
   "source": [
    "## 3 - Decision Making"
   ]
  },
  {
   "cell_type": "markdown",
   "metadata": {
    "id": "zK2SHaErbKjB"
   },
   "source": [
    "*The following table shows the logical comparison operators.*"
   ]
  },
  {
   "cell_type": "markdown",
   "metadata": {
    "id": "w3eJf5HTbKjC"
   },
   "source": [
    "Operator | Meaning\n",
    "---------| -------------------------\n",
    "==       | Equals to\n",
    "!=\t     | Not equals to\n",
    "\\>       | Greater than\n",
    "\\>=      | Greater than or equals to\n",
    "<        | Less than\n",
    "<=       | Less than or equals to\n"
   ]
  },
  {
   "cell_type": "markdown",
   "metadata": {
    "id": "5a5Jd4C4bKjC"
   },
   "source": [
    "### 3.1 - Decision Making – If-else statement"
   ]
  },
  {
   "cell_type": "markdown",
   "metadata": {
    "id": "ribTeQgybKjC"
   },
   "source": [
    "*Remark: There is no **switch** statement in Python*"
   ]
  },
  {
   "cell_type": "markdown",
   "metadata": {
    "id": "FFmzGUI9bKjC"
   },
   "source": [
    "## if else statement\n",
    "if condition:\n",
    "    statement\n",
    "elif condition:\n",
    "    statement\n",
    "else:\n",
    "    statement\n",
    "    \n",
    "if condition:\n",
    "    statement\n",
    "\n",
    "## Inline if else statement\n",
    "True if condition else False\n",
    "m = 1\n",
    "print(\"this is true\" if m==1 else \"this is false\")"
   ]
  },
  {
   "cell_type": "code",
   "execution_count": null,
   "metadata": {
    "id": "Sh9ki3fabKjC",
    "outputId": "827a21a8-35d1-4da8-a67a-35b2aaad56c8"
   },
   "outputs": [],
   "source": [
    "weight = 50.0 #try your own weight in kilogram\n",
    "height = 1.60 #try your own height in meter\n",
    "bmi = weight / (height) ** 2  #the body mass index formula normal = False\n",
    "\n",
    "print ('Your BMI is ', bmi)\n",
    "\n",
    "if bmi < 18.5:  #don’t forget the ‘:’\n",
    "    print ('You are underweight')\n",
    "elif 18.5 <= bmi <= 25:\n",
    "    print ('Congratulation. Your weight is normal')\n",
    "    normal = True\n",
    "elif 25 <= bmi <= 30:\n",
    "    print ('Time to keep fit')\n",
    "elif 30 <= bmi <= 35:\n",
    "    print ('You should reduce your weight')\n",
    "else:\n",
    "    print ('Time to seek help from a professional fitness expert')\n",
    "\n",
    "if normal != True:\n",
    "     print ('TAR Slimming Centre could help')"
   ]
  },
  {
   "cell_type": "markdown",
   "metadata": {
    "id": "RTlrce-abKjC"
   },
   "source": [
    "### 3.2 - The Inline If statement"
   ]
  },
  {
   "cell_type": "code",
   "execution_count": null,
   "metadata": {
    "id": "rRThV6T2bKjC",
    "outputId": "b5d9a1bb-c5d2-485f-fe85-3eadd3efe788"
   },
   "outputs": [],
   "source": [
    "name = input(\"Please enter your name: \") # to get the input as a string\n",
    "print (\"Hello, it is pleasure to meet you, \", name )\n",
    "\n",
    "num = int(input(\"Please enter a number: \") )\n",
    "print (\"It is even\" if num % 2 == 0 else \"It is odd\")\n",
    "\n",
    "pets = input(\"enter pets separated by commas (no space): \")\n",
    "petList = pets.split(',')\n",
    "print(petList)"
   ]
  },
  {
   "cell_type": "markdown",
   "metadata": {
    "id": "77CXpBzTbKjC"
   },
   "source": [
    "## 4 - Loop"
   ]
  },
  {
   "cell_type": "markdown",
   "metadata": {
    "id": "JaNIpgBsbKjC"
   },
   "source": [
    "### 4.1 - Iterate with Range\n",
    "The **for** statement in Python differs a bit from what you may be used to in C. Instead of using a counter to determine the iteration step and halting condition, we use **range(start, stop before, step)** to iterate over a sequence of numbers. Example:"
   ]
  },
  {
   "cell_type": "markdown",
   "metadata": {
    "id": "y-Hii9-YbKjD"
   },
   "source": [
    "### java example\n",
    "for(int i=0; i<10; i++)\n",
    "{   print(i);\n",
    "}\n",
    "\n",
    "### python\n",
    "for i in range(10):\n",
    "    print(i)"
   ]
  },
  {
   "cell_type": "code",
   "execution_count": null,
   "metadata": {
    "id": "T954cKkBbKjD",
    "outputId": "4beea706-3dff-49fc-becd-281c64fec793"
   },
   "outputs": [],
   "source": [
    "for i in range(10):\n",
    "    print ('i :', i )\n",
    "print (\"-----------\" )\n",
    "\n",
    "for i in range(-5, 5):\n",
    "    print ('i :', i )\n",
    "print (\"-----------\" )\n",
    "\n",
    "for i in range(10, 20, 2):\n",
    "    print ('i :', i )"
   ]
  },
  {
   "cell_type": "markdown",
   "metadata": {
    "id": "4IrvIzSSbKjD"
   },
   "source": [
    "### 4.2 - Iterate with Sequence Index\n",
    "You can access each item by index offset into the sequence itself. Example:"
   ]
  },
  {
   "cell_type": "markdown",
   "metadata": {
    "id": "H8d1TqkpbKjD"
   },
   "source": [
    "num = [\"albert\", \"ben\", \"charlie\"]\n",
    "\n",
    "for i in range(len(num)):\n",
    "    print(num[i])"
   ]
  },
  {
   "cell_type": "code",
   "execution_count": null,
   "metadata": {
    "id": "lp62HUudbKjD",
    "outputId": "481220e5-b978-4572-eac5-56eaf9c223dc"
   },
   "outputs": [],
   "source": [
    "num = [2,4,5,8]\n",
    "for index in range(len(num)):\n",
    "    print ('Current item :', num[index] )"
   ]
  },
  {
   "cell_type": "markdown",
   "metadata": {
    "id": "yqhTmk41bKjD"
   },
   "source": [
    "### 4.3 - Iterating list of strings\n",
    "You can use for statement to iterate items in a list of strings as follows:"
   ]
  },
  {
   "cell_type": "code",
   "execution_count": null,
   "metadata": {
    "id": "xMUSdFSxbKjD",
    "outputId": "ac139ae8-b5fb-4bc8-d689-8b2393f732d1"
   },
   "outputs": [],
   "source": [
    "for day in [\"Mon\", \"Tue\", \"Wed\", \"Thu\", \"Fri\"]:\n",
    "    print (day)"
   ]
  },
  {
   "cell_type": "markdown",
   "metadata": {
    "id": "_MlBfojRbKjI"
   },
   "source": [
    "### 4.4. Conditional Loop\n",
    "Use **while()** loop to execute a block of code until a given condition is met"
   ]
  },
  {
   "cell_type": "markdown",
   "metadata": {
    "id": "5FgNQisubKjI"
   },
   "source": [
    "### java\n",
    "while(b<n){\n",
    "    print(b)\n",
    "}\n",
    "\n",
    "### python\n",
    "while b<n:\n",
    "    print(b)"
   ]
  },
  {
   "cell_type": "code",
   "execution_count": null,
   "metadata": {
    "id": "72jbg4jbbKjI",
    "outputId": "a9ea71b3-6597-42b9-877e-f9951735515f"
   },
   "outputs": [],
   "source": [
    "n = int(input(\"Enter the upper boundry of your fibonucci sequence: \"))\n",
    "a = 0\n",
    "b = 1\n",
    "print(a)\n",
    "while b < n:\n",
    "    print(b)\n",
    "    t = b\n",
    "    b = a + b\n",
    "    a = t"
   ]
  },
  {
   "cell_type": "markdown",
   "metadata": {
    "id": "TZOZCOz_bKjI"
   },
   "source": [
    "### 4.5 - Break, Pass and Continue statement\n",
    "Use **break** to quit a loop, use **pass** to return True"
   ]
  },
  {
   "cell_type": "code",
   "execution_count": null,
   "metadata": {
    "id": "K6wSIMaRbKjI",
    "outputId": "dffa9a32-bdca-4863-9231-bcf4e54a0e3b"
   },
   "outputs": [],
   "source": [
    "import random\n",
    "answer = random.randint(1, 10)\n",
    "while True:  #infinite loop until the break statement is met\n",
    "    x = int(input('Guess a number between 1 to 10 >>  '))\n",
    "    if x == answer:\n",
    "        break   # terminate the loop\n",
    "    if x < 1:\n",
    "        pass    # pass statement does nothing, but continue to next statement\n",
    "    if x > answer:\n",
    "        print(\"choose a smaller number\")\n",
    "        continue    # continue the next iteration\n",
    "    elif x < answer:\n",
    "        print(\"choose a bigger number\")\n",
    "\n",
    "print(\"You got it!\")\n"
   ]
  },
  {
   "cell_type": "markdown",
   "metadata": {
    "id": "TuX_1r8IbKjI"
   },
   "source": [
    "## 5 - Function"
   ]
  },
  {
   "cell_type": "markdown",
   "metadata": {
    "id": "mpqnV_wEbKjI"
   },
   "source": [
    "### 5.1 - Function Definition\n",
    "A function in Python is declared using the **def** keyword"
   ]
  },
  {
   "cell_type": "code",
   "execution_count": null,
   "metadata": {
    "id": "jXedzOV8bKjJ"
   },
   "outputs": [],
   "source": [
    "def area(x,y):\n",
    "    return x * y\n",
    "\n",
    "a = int(input('Enter a length >> '))\n",
    "b = int(input('Enter a width >> '))\n",
    "print('The area is ', area(a,b))\n"
   ]
  },
  {
   "cell_type": "markdown",
   "metadata": {
    "id": "qNT0Dl9wbKjJ"
   },
   "source": [
    "### 5.2.Function with default parameter(s)\n",
    "You can specify *default values* to the function argument(s)"
   ]
  },
  {
   "cell_type": "markdown",
   "metadata": {
    "id": "yESGIbcgbKjJ"
   },
   "source": [
    "### Java example\n",
    "double setPrice(double price, double discount){\n",
    "    double finalPrice = price - price * discount;\n",
    "    return finalPrice;\n",
    "}\n",
    "\n",
    "double p = setPrice(100, 0.10);\n",
    "print(p);\n",
    "\n",
    "### Python example\n",
    "def setPrice(price, discount):\n",
    "    finalPrice = price - price * discount\n",
    "    return finalPrice\n",
    "\n",
    "p = setPrice(100, 0.1)\n",
    "print(p)"
   ]
  },
  {
   "cell_type": "code",
   "execution_count": null,
   "metadata": {
    "id": "rtmrBd4XbKjJ",
    "outputId": "a5bcb763-11e3-41d6-f785-f25a335c9a8b"
   },
   "outputs": [],
   "source": [
    "def circle(radius, pi = 3.14): # a default value is set to pi\n",
    "    \"\"\"\n",
    "    Calculates circle area for the given radius\n",
    "    \"\"\"\n",
    "    area = pi * radius ** 2\n",
    "    return area\n",
    "\n",
    "print(circle(10))   # the 2nd argument is ignored, so the default value pi is used\n",
    "print(circle(10, 22/7)) # the 2nd argument default value is overwritten\n",
    "\n",
    "# the order does not matter if you call the argument by its keyword\n",
    "print(circle(pi = 2.6, radius = 10))\n"
   ]
  },
  {
   "cell_type": "markdown",
   "metadata": {
    "id": "BQ4e0lSjbKjJ"
   },
   "source": [
    "We will continue Collections in the next practical"
   ]
  }
 ],
 "metadata": {
  "colab": {
   "provenance": []
  },
  "kernelspec": {
   "display_name": "Python 3 (ipykernel)",
   "language": "python",
   "name": "python3"
  },
  "language_info": {
   "codemirror_mode": {
    "name": "ipython",
    "version": 3
   },
   "file_extension": ".py",
   "mimetype": "text/x-python",
   "name": "python",
   "nbconvert_exporter": "python",
   "pygments_lexer": "ipython3",
   "version": "3.11.7"
  }
 },
 "nbformat": 4,
 "nbformat_minor": 4
}

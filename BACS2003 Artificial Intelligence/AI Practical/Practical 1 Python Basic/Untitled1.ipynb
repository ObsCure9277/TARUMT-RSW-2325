{
 "cells": [
  {
   "cell_type": "code",
   "execution_count": 1,
   "id": "ed5c9b01",
   "metadata": {},
   "outputs": [],
   "source": [
    "#Q1\n",
    "\n",
    "import math\n",
    "\n",
    "def volume(r, h):\n",
    "    v = math.pi*r**2*h\n",
    "    print(\"Volume is: \", v)\n"
   ]
  },
  {
   "cell_type": "code",
   "execution_count": 2,
   "id": "ac0371d4",
   "metadata": {},
   "outputs": [
    {
     "name": "stdout",
     "output_type": "stream",
     "text": [
      "Volume is:  62.83185307179586\n"
     ]
    }
   ],
   "source": [
    "volume(2, 5)"
   ]
  },
  {
   "cell_type": "code",
   "execution_count": 7,
   "id": "772f43fe",
   "metadata": {},
   "outputs": [
    {
     "name": "stdout",
     "output_type": "stream",
     "text": [
      "847.303897276872\n"
     ]
    }
   ],
   "source": [
    "#Q2\n",
    "\n",
    "import time\n",
    "import math\n",
    "\n",
    "def simulated_mouse(start_x, start_y, end_x, end_y):\n",
    "    start_time=time.time()\n",
    "    distance = math.sqrt((end_x-start_x)**2+(end_y-start_y)**2)\n",
    "    time.sleep(1)\n",
    "    end_time=time.time()\n",
    "    elapse_time = end_time-start_time\n",
    "    speed = distance/elapse_time\n",
    "    return speed\n",
    "\n",
    "start_pos = (100, 500)\n",
    "end_pos = (800, 1000)\n",
    "speed =(simulated_mouse(start_pos[0], start_pos[1], end_pos[0], end_pos[1]))\n",
    "print(speed)"
   ]
  },
  {
   "cell_type": "code",
   "execution_count": 15,
   "id": "9f5712ec",
   "metadata": {},
   "outputs": [
    {
     "name": "stdout",
     "output_type": "stream",
     "text": [
      "Average speed: 768.3151612543068 pixels/second\n"
     ]
    }
   ],
   "source": [
    "#Q3\n",
    "\n",
    "import time\n",
    "import math\n",
    "import random\n",
    "\n",
    "def generated_coordinate(num_pairs = 10):\n",
    "    coordinateList = []\n",
    "    for _ in range(num_pairs):\n",
    "        start_x = random.randint(0,1920)\n",
    "        start_y = random.randint(0, 1080)\n",
    "        end_x = random.randint(0, 1920)\n",
    "        end_y = random.randint(0,1080)\n",
    "        coordinateList.append(((start_x, start_y,), (end_x, end_y)))\n",
    "        time.sleep(1)\n",
    "    return coordinateList\n",
    "\n",
    "def calculate_distance(start_x, start_y, end_x, end_y):\n",
    "    return math.sqrt((end_x - start_x)**2 + (end_y - start_y)**2)\n",
    "\n",
    "def calculateMouseSpeed(coordinateList, duration):\n",
    "    total_distance = sum(calculate_distance(start[0], start[1], end[0], end[1]) \n",
    "                         for start, end in coordinateList)\n",
    "    average_speed = total_distance/duration\n",
    "    return average_speed\n",
    "\n",
    "start_time = time.time()\n",
    "\n",
    "coordinateList = generated_coordinate(10)\n",
    "\n",
    "end_time = time.time()\n",
    "total_duration = end_time - start_time\n",
    "\n",
    "average_speed = calculateMouseSpeed(coordinateList, total_duration)\n",
    "print(f\"Average speed: {average_speed} pixels/second\")"
   ]
  },
  {
   "cell_type": "code",
   "execution_count": null,
   "id": "380ad02f",
   "metadata": {},
   "outputs": [
    {
     "name": "stdout",
     "output_type": "stream",
     "text": [
      "Welcome to Mastermind!\n",
      "Available colors: ['red', 'green', 'blue', 'yellow', 'orange', 'purple']\n",
      "Guess the secret code of 4 colors.\n",
      "You have 10 attempts.\n",
      "\n",
      "Enter your guess (comma-separated colors): blue,red,white,yellow\n",
      "Invalid guess. Please enter exactly 4 colors from the available options.\n",
      "Enter your guess (comma-separated colors): green,blue,yellow,orange\n",
      "Attempt 1\n",
      "Exact matches: 0\n",
      "Color matches (excluding exact matches): 2\n",
      "\n",
      "Enter your guess (comma-separated colors): green,red,purple,yellow\n",
      "Attempt 2\n",
      "Exact matches: 0\n",
      "Color matches (excluding exact matches): 3\n",
      "\n",
      "Enter your guess (comma-separated colors): green,red,blue,orange\n",
      "Attempt 3\n",
      "Exact matches: 0\n",
      "Color matches (excluding exact matches): 3\n",
      "\n",
      "Enter your guess (comma-separated colors): green,red,blue,yellow\n",
      "Attempt 4\n",
      "Exact matches: 0\n",
      "Color matches (excluding exact matches): 3\n",
      "\n"
     ]
    }
   ],
   "source": [
    "#Question 4\n",
    "\n",
    "import random\n",
    "\n",
    "colors = [\"red\", \"green\", \"blue\", \"yellow\", \"orange\", \"purple\"]     #default colour\n",
    "attempts_limit = 10                                                 #chance given to player\n",
    "\n",
    "def generate_secret_code():                                         #function to randomly assign 4 colours into 4 positions\n",
    "    return random.sample(colors, 4)\n",
    "\n",
    "def get_player_guess():                                             #function for player to guess 4 colours\n",
    "    while True:\n",
    "        guess = input(\"Enter your guess (comma-separated colors): \").strip().lower().split(\",\")\n",
    "        if len(guess) == 4 and all(color in colors for color in guess): #input validation to check if player input only 4 colours & within default colour\n",
    "            return guess\n",
    "        print(\"Invalid guess. Please enter exactly 4 colors from the available options.\")\n",
    "\n",
    "def get_feedback(secret_code, guess):                               #compare the actual answer with the player's guess\n",
    "    exact_matches = sum(secret_code[i] == guess[i] for i in range(4)) #calculate how many exact match\n",
    "    color_matches = len(set(secret_code) & set(guess)) - exact_matches #calculate how many colour match (wrong position)\n",
    "    return exact_matches, color_matches\n",
    "\n",
    "def play_game():      #main function\n",
    "    secret_code = generate_secret_code()         #call function to assign 4 colours into different positions\n",
    "    print(\"Welcome to Mastermind!\")\n",
    "    print(\"Available colors:\", colors)\n",
    "    print(\"Guess the secret code of 4 colors.\")\n",
    "    print(\"You have\", attempts_limit, \"attempts.\")\n",
    "    print()\n",
    "\n",
    "    attempts = 0         #reset variable to 0\n",
    "    while attempts < attempts_limit:\n",
    "        guess = get_player_guess()   #call function to get user input\n",
    "        exact_matches, color_matches = get_feedback(secret_code, guess)   #call function to get result after comparison\n",
    "        attempts += 1\n",
    "        print(\"Attempt\", attempts)\n",
    "        print(\"Exact matches:\", exact_matches)\n",
    "        print(\"Color matches (excluding exact matches):\", color_matches)\n",
    "        print()\n",
    "\n",
    "        if guess == secret_code:    #win the game\n",
    "            print(\"Congratulations! You guessed the secret code!\")\n",
    "            return\n",
    "\n",
    "    print(\"Game over! You ran out of attempts.\")  #lose the game\n",
    "    print(\"The secret code was:\", secret_code)\n",
    "\n",
    "play_game()  #call main function"
   ]
  },
  {
   "cell_type": "code",
   "execution_count": null,
   "id": "e56590e7",
   "metadata": {},
   "outputs": [],
   "source": []
  }
 ],
 "metadata": {
  "kernelspec": {
   "display_name": "Python 3 (ipykernel)",
   "language": "python",
   "name": "python3"
  },
  "language_info": {
   "codemirror_mode": {
    "name": "ipython",
    "version": 3
   },
   "file_extension": ".py",
   "mimetype": "text/x-python",
   "name": "python",
   "nbconvert_exporter": "python",
   "pygments_lexer": "ipython3",
   "version": "3.9.13"
  }
 },
 "nbformat": 4,
 "nbformat_minor": 5
}

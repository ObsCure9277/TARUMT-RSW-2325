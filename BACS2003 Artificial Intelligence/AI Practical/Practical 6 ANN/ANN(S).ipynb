{
 "cells": [
  {
   "cell_type": "markdown",
   "metadata": {},
   "source": [
    "# Practical 6: Artificial Neural Network\n"
   ]
  },
  {
   "cell_type": "markdown",
   "metadata": {},
   "source": [
    "## Instruction\n",
    "In this practical, student is required to implement artificial neural network system (Multilayer\n",
    "Perceptron) using Python to solve the approximation function (1/2 * sin(x)). Step by step instruction\n",
    "is given as follow. Solve the tasks that are prompted in the practical.\n",
    "\n",
    "## Section A: ANN\n",
    "1. Create a new py file and import the necessary libraries."
   ]
  },
  {
   "cell_type": "code",
   "execution_count": null,
   "metadata": {},
   "outputs": [],
   "source": [
    "import neurolab as nl #simple and powerful Neural Network Library for Python\n",
    "import numpy as np    #adding support for large, multi-dimensional arrays and matrices\n",
    "import pylab as pl    #bulk imports matplotlib.pyplot (for plotting) "
   ]
  },
  {
   "cell_type": "markdown",
   "metadata": {},
   "source": [
    "2. Create the training samples (data points) by using the function (1/2 * sin(x))."
   ]
  },
  {
   "cell_type": "code",
   "execution_count": null,
   "metadata": {},
   "outputs": [],
   "source": [
    "x = np.linspace(-7, 7, 100) #create an evenly spaced sequence in a specified interval.\n",
    "y = np.sin(x) * 0.5\n",
    "size = len(x) #give a guess: Value of len(x)\n",
    "inp = x.reshape(size,1)\n",
    "tar = y.reshape(size,1)"
   ]
  },
  {
   "cell_type": "markdown",
   "metadata": {},
   "source": [
    "3. Create a multilayer neural network with one input layer, one hidden layer and one output\n",
    "layer. The weights are random initialized. The illustration of the created neural network is\n",
    "shown in Fig. 1.\n",
    "\n",
    "<img src=\"https://i.ibb.co/vhmbSNh/Multi-Layer.jpg\" alt=\"Multi-Layer\" border=\"0\">"
   ]
  },
  {
   "cell_type": "code",
   "execution_count": null,
   "metadata": {},
   "outputs": [],
   "source": [
    "net = nl.net.newff([[-7, 7]],[100, 1])"
   ]
  },
  {
   "cell_type": "markdown",
   "metadata": {},
   "source": [
    "4. Train the network by passing the necessary parameters into the net.train function. The explanations for the respective parameters are as follow:\n",
    "\n",
    "__input:__ array – to pass in input data<br>\n",
    "__target:__ array – to pass in the corresponding data label<br>\n",
    "__epochs:__ int (default 500) – Number of train epoch (iteration)<br>\n",
    "__show:__ int (default 100) – Print period (to show the error calculated at every 100 epoch)<br>\n",
    "__goal:__ float (default 0.01) – The goal of the training (The training will stop if the error is < goal)"
   ]
  },
  {
   "cell_type": "code",
   "execution_count": null,
   "metadata": {},
   "outputs": [],
   "source": [
    "error = net.train(inp, tar, epochs=500, show=100, goal=0.0)"
   ]
  },
  {
   "cell_type": "markdown",
   "metadata": {},
   "source": [
    "5. Simulate the network using a different set of inputs (inp2A)."
   ]
  },
  {
   "cell_type": "code",
   "execution_count": null,
   "metadata": {},
   "outputs": [],
   "source": [
    "x2 = np.linspace(-7, 7, 100)\n",
    "size = len(x2)\n",
    "test= x2.reshape(size,1)"
   ]
  },
  {
   "cell_type": "code",
   "execution_count": null,
   "metadata": {},
   "outputs": [],
   "source": [
    "out = net.sim(test)"
   ]
  },
  {
   "cell_type": "markdown",
   "metadata": {},
   "source": [
    "6. Plot the results. You should be able to see the output as shown in Fig. 2."
   ]
  },
  {
   "cell_type": "code",
   "execution_count": null,
   "metadata": {},
   "outputs": [],
   "source": [
    "y3 = out.reshape(size)\n",
    "pl.plot(x , y, '-', x, y3, 'p')\n",
    "pl.legend(['train target', 'net output'])\n",
    "pl.show()"
   ]
  },
  {
   "cell_type": "markdown",
   "metadata": {},
   "source": [
    " <font color='blue'>\n",
    "__Tasks:__<br>    \n",
    "1. Please interpret the results to your tutor. <br>\n",
    "\n",
    "2. Repeat the program by using different number of neuron in the hidden layer (e.g: 1,3, 5) in training step. State the difference in outputs.    \n",
    "3. Repeat the program by using different number of epoch (e.g: 5, 50, 500) in the training step. State the difference in outputs. </font>"
   ]
  },
  {
   "cell_type": "markdown",
   "metadata": {},
   "source": [
    "# Exercise:\n",
    "1. Implement a neural network (NN) to classify the iris data. You may reuse the code from the\n",
    "previous practical for data preprocessing.<br>\n",
    "a. Train the NN with <br><br>\n",
    "    <tab> i. 4 input neurons (to feed in 4 attributes of iris data)<br>\n",
    "    <tab>ii. 2 hidden layers with 5 neurons each<br>\n",
    "    <tab>iii. 1 output layer with 3 neurons (represent 3 iris classes)<br><br>\n",
    "b. Simulate the network using same input and evaluate the output. Please discuss the\n",
    "output with tutor."
   ]
  },
  {
   "cell_type": "markdown",
   "metadata": {},
   "source": [
    "Hint:\n",
    "\n",
    "To create the target in NN, represent the iris class (or target) with 150 * 3 array. Each\n",
    "column represents respective class and indicate “1” as true and “0” as false. For example: if\n",
    "the first instance is Iris-setosa, then:\n",
    "\n",
    "|Iris-Setosa | Iris-Versicolor | Iris-Virginica|\n",
    "|---|---|---|\n",
    "|1 | 0 | 0|"
   ]
  },
  {
   "cell_type": "markdown",
   "metadata": {},
   "source": [
    "## a. Create the NN with<br>\n",
    "\n",
    "i. 4 input neurons (to feed in 4 attributes of iris data)<br>\n",
    "ii. 2 hidden layers with 5 neurons each<br>\n",
    "iii. 1 output layer with 3 neurons (represent 3 iris classes)"
   ]
  },
  {
   "cell_type": "code",
   "execution_count": null,
   "metadata": {},
   "outputs": [],
   "source": []
  },
  {
   "cell_type": "markdown",
   "metadata": {},
   "source": [
    "## b. Train network"
   ]
  },
  {
   "cell_type": "code",
   "execution_count": null,
   "metadata": {
    "scrolled": true
   },
   "outputs": [],
   "source": []
  },
  {
   "cell_type": "markdown",
   "metadata": {},
   "source": [
    "## c. Simulate network"
   ]
  },
  {
   "cell_type": "code",
   "execution_count": null,
   "metadata": {},
   "outputs": [],
   "source": []
  },
  {
   "cell_type": "markdown",
   "metadata": {},
   "source": [
    "## d. Evaluate the result (Hint: sklearn)"
   ]
  },
  {
   "cell_type": "code",
   "execution_count": null,
   "metadata": {},
   "outputs": [],
   "source": []
  }
 ],
 "metadata": {
  "kernelspec": {
   "display_name": "Python 3 (ipykernel)",
   "language": "python",
   "name": "python3"
  },
  "language_info": {
   "codemirror_mode": {
    "name": "ipython",
    "version": 3
   },
   "file_extension": ".py",
   "mimetype": "text/x-python",
   "name": "python",
   "nbconvert_exporter": "python",
   "pygments_lexer": "ipython3",
   "version": "3.11.7"
  }
 },
 "nbformat": 4,
 "nbformat_minor": 4
}

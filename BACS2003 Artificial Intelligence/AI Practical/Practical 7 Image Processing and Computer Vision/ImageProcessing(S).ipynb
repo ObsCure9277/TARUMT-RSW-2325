{
 "cells": [
  {
   "cell_type": "markdown",
   "metadata": {},
   "source": [
    "# Image Processing and Computer Vision"
   ]
  },
  {
   "cell_type": "markdown",
   "metadata": {},
   "source": [
    "## Instruction\n",
    "In this practical, student is required to perform the following image processing and computer vision\n",
    "functions. Image and video data will be provided for the purposes.<br><br>\n",
    "__(A) Image processing: perform the following functions for Image processing:__ <br>\n",
    "    1) Read image<br>\n",
    "    2) Resize image<br>\n",
    "    3) Convert to grayscale image<br>\n",
    "    4) Perform Morphological operation<br>\n",
    "    5) Image denoise<br>\n",
    "    6) Edge detection<br>\n",
    "    7) Corner detection<br><br>\n",
    "__(B) Computer Vision: Track a car/person on the road using optical flow__<br>\n",
    "1) Read a video<br>\n",
    "2) Perform background subtraction<br>\n",
    "3) Perform motion tracking<br>"
   ]
  },
  {
   "cell_type": "markdown",
   "metadata": {},
   "source": [
    "## Section A: Image Processing \n",
    "\n",
    "1. Create a new py file and type the following using the Python Editor to import necessary\n",
    "libraries. “cv2” is a well-known library (OpenCV) to perform image processing and video\n",
    "analysis."
   ]
  },
  {
   "cell_type": "code",
   "execution_count": null,
   "metadata": {},
   "outputs": [],
   "source": [
    "import numpy as np\n",
    "import cv2"
   ]
  },
  {
   "cell_type": "markdown",
   "metadata": {},
   "source": [
    "2. “imread” is used to read an image in Python while “imshow” can be used to visualize an\n",
    "image output. The following lines read “Lenna.png” and visualize it in python."
   ]
  },
  {
   "cell_type": "code",
   "execution_count": null,
   "metadata": {},
   "outputs": [],
   "source": [
    "img = cv2.imread('Lenna.png')\n",
    "cv2.imshow('picOriLenna',img)\n",
    "cv2.waitKey(0)\n",
    "cv2.destroyAllWindows()"
   ]
  },
  {
   "cell_type": "markdown",
   "metadata": {},
   "source": [
    "3. An image can be resized with the “resize” function. “fx” and “fy” indicate the scale that the\n",
    "image to be resized (Example: 0.5 means to downsize the image into ½ of the original size)."
   ]
  },
  {
   "cell_type": "code",
   "execution_count": null,
   "metadata": {},
   "outputs": [],
   "source": [
    "imgResize = cv2.resize(img,None,fx=0.5, fy=0.5)\n",
    "cv2.imshow('picResized',imgResize)\n",
    "cv2.waitKey(0)\n",
    "cv2.destroyAllWindows()"
   ]
  },
  {
   "cell_type": "markdown",
   "metadata": {},
   "source": [
    "4. An image can be converted to grayscale from color image with the following lines."
   ]
  },
  {
   "cell_type": "code",
   "execution_count": null,
   "metadata": {},
   "outputs": [],
   "source": [
    "gray_image = cv2.cvtColor(img, cv2.COLOR_BGR2GRAY)\n",
    "cv2.imshow('picGray',gray_image)\n",
    "cv2.waitKey(0)\n",
    "cv2.destroyAllWindows()"
   ]
  },
  {
   "cell_type": "markdown",
   "metadata": {},
   "source": [
    "5. Images may contain numerous imperfections. In particular, the binary regions produced by\n",
    "simple thresholding are distorted by noise and texture (example, gaps between the pixels).\n",
    "Morphological image processing pursues the goals of removing these imperfections by\n",
    "accounting for the form and structure of the image. Morphological operators often take a\n",
    "binary image and a structuring element as input and combine them using a set operator\n",
    "(intersection, union, inclusion, complement). They process objects in the input image based\n",
    "on characteristics of its shape, which are encoded in the structuring element. There are four\n",
    "common types of morphological operations which are; erosion, dilation, opening and closing.\n",
    "Following lines perform morphological operation with a Digit image."
   ]
  },
  {
   "cell_type": "code",
   "execution_count": null,
   "metadata": {},
   "outputs": [],
   "source": [
    "# We use Digit image to perform morphological operation\n",
    "imgDigit = cv2.imread('Digit3.png')\n",
    "cv2.imshow('picOriDigit',imgDigit)\n",
    "\n",
    "# Erosion\n",
    "kernel = np.ones((3,3),np.uint8) #To define the structuring element\n",
    "erosion = cv2.erode(imgDigit,kernel,iterations = 1)\n",
    "cv2.imshow('picErosion',erosion)\n",
    "\n",
    "# Dilation\n",
    "kernel = np.ones((5,5),np.uint8)\n",
    "dilation = cv2.dilate(imgDigit,kernel,iterations = 1)\n",
    "cv2.imshow('picDilation',dilation)\n",
    "\n",
    "# Opening\n",
    "kernel = np.ones((3,3),np.uint8)\n",
    "opening = cv2.morphologyEx(imgDigit, cv2.MORPH_OPEN, kernel)\n",
    "cv2.imshow('picOpening',opening)\n",
    "\n",
    "# Closing\n",
    "kernel = np.ones((5,5),np.uint8)\n",
    "closing = cv2.morphologyEx(imgDigit, cv2.MORPH_CLOSE, kernel)\n",
    "cv2.imshow('picClosing',closing)\n",
    "\n",
    "cv2.waitKey(0)\n",
    "cv2.destroyAllWindows()"
   ]
  },
  {
   "cell_type": "markdown",
   "metadata": {},
   "source": [
    "6. Image noise is random (not present in the object imaged) variation of brightness or color\n",
    "information in images. It is an unwanted signal that could be an obstacle in the later\n",
    "processes (e.g feature extraction) and it might affect the overall system performance. Thus,\n",
    "it is important to have noise removal in the image preprocessing step. Following lines\n",
    "demonstrates noise removal by using three different filters (Average, Gaussian, and Median)\n",
    "on camera man image with salt and pepper noise."
   ]
  },
  {
   "cell_type": "code",
   "execution_count": null,
   "metadata": {},
   "outputs": [],
   "source": [
    "#Read and convert image into grayscale\n",
    "imgNoise = cv2.imread(\"cameraman_noise.jpg\")\n",
    "gray_imgNoise = cv2.cvtColor(imgNoise, cv2.COLOR_BGR2GRAY)\n",
    "cv2.imshow('picOriNoise',gray_imgNoise)\n",
    "\n",
    "# Averaging filtering\n",
    "blurAverage = cv2.blur(gray_imgNoise,(5,5))\n",
    "cv2.imshow('picBlur', blurAverage)\n",
    "\n",
    "# Gaussian filtering\n",
    "blurGauss = cv2.GaussianBlur(gray_imgNoise,(5,5),0)\n",
    "cv2.imshow('picBlurGauss',blurGauss)\n",
    "\n",
    "# Median filtering\n",
    "blurMedian = cv2.medianBlur(gray_imgNoise,5)\n",
    "cv2.imshow('picBlurMedian',blurMedian)\n",
    "\n",
    "cv2.waitKey(0)\n",
    "cv2.destroyAllWindows()"
   ]
  },
  {
   "cell_type": "markdown",
   "metadata": {},
   "source": [
    "7. Edge and corner are very useful image features commonly used for feature extraction and\n",
    "perform recognition in an image. Following lines used canny operator to extract the edge\n",
    "and Harris corner detector to extract the corner of the Chessboard image."
   ]
  },
  {
   "cell_type": "code",
   "execution_count": null,
   "metadata": {},
   "outputs": [],
   "source": [
    "filename = 'Chessboard.png'\n",
    "img = cv2.imread(filename)\n",
    "img = cv2.resize(img,None,fx=0.5, fy=0.5)\n",
    "cv2.imshow('picOriChessboard',img)\n",
    "\n",
    "# Edge detection using canny operator\n",
    "edgesCanny = cv2.Canny(img,100,200)\n",
    "cv2.imshow('picEdgeCanny',edgesCanny)\n",
    "\n",
    "# Corner detection using Harris corner detector\n",
    "gray = cv2.cvtColor(img,cv2.COLOR_BGR2GRAY)\n",
    "gray = np.float32(gray)\n",
    "dst = cv2.cornerHarris(gray,2,3,0.04)\n",
    "dst = cv2.dilate(dst,None) #result is dilated for marking the corners, not important\n",
    "img[dst>0.01*dst.max()]=[0,0,255] # Threshold for an optimal value, it may vary depending on the image.\n",
    "cv2.imshow('picCornerHarris', img)\n",
    "\n",
    "cv2.waitKey(0)\n",
    "cv2.destroyAllWindows()"
   ]
  },
  {
   "cell_type": "markdown",
   "metadata": {},
   "source": [
    "8. It is important that in Python we need to hold the visualization by using “cv2.waitKey(0)”\n",
    "until the user press any key for further processing. User may close all windows to release the\n",
    "memory by using “cv2.destroyAllWindows()”."
   ]
  },
  {
   "cell_type": "markdown",
   "metadata": {},
   "source": [
    "# Exercise:\n",
    "1. Segment different elements from the map images (“map.png”) and visualize it in different\n",
    "windows such as lake, road, field, and housing area. Hint: you may refer to the following\n",
    "steps and distinguish each of them by using different range of RGB values.<br>\n",
    "a. Read “map.png” in python.<br>\n",
    "b. Insert the following code to extract the river. Understand the code and repeat the\n",
    "same process to extract road, field and housing area."
   ]
  },
  {
   "cell_type": "code",
   "execution_count": null,
   "metadata": {},
   "outputs": [],
   "source": []
  },
  {
   "cell_type": "markdown",
   "metadata": {},
   "source": [
    "![](https://oi163.photobucket.com/albums/t281/kyin_album/map.jpg)"
   ]
  },
  {
   "cell_type": "markdown",
   "metadata": {},
   "source": [
    "Hint: You may check the RGB values for the map using the following website:\n",
    "http://imagecolorpicker.com/"
   ]
  },
  {
   "cell_type": "markdown",
   "metadata": {},
   "source": [
    "2. Implement an intrusion detection system which will continually loop the program and fire an\n",
    "alarm when Intrusion is True (you may use the sample video and declare an intrusion as “1”\n",
    "when intrusion is true)."
   ]
  },
  {
   "cell_type": "code",
   "execution_count": null,
   "metadata": {},
   "outputs": [],
   "source": []
  },
  {
   "cell_type": "markdown",
   "metadata": {},
   "source": [
    "3. Try this if you have a webcam. You may use “cap = cv2.VideoCapture(0)” to retrieve the live\n",
    "video from your webcam."
   ]
  },
  {
   "cell_type": "code",
   "execution_count": null,
   "metadata": {},
   "outputs": [],
   "source": []
  },
  {
   "cell_type": "markdown",
   "metadata": {},
   "source": [
    "References:\n",
    "\n",
    "http://opencv.org/\n",
    "\n",
    "http://opencv-python-tutroals.readthedocs.io/en/latest/py_tutorials/py_tutorials.html"
   ]
  }
 ],
 "metadata": {
  "kernelspec": {
   "display_name": "Python 3 (ipykernel)",
   "language": "python",
   "name": "python3"
  },
  "language_info": {
   "codemirror_mode": {
    "name": "ipython",
    "version": 3
   },
   "file_extension": ".py",
   "mimetype": "text/x-python",
   "name": "python",
   "nbconvert_exporter": "python",
   "pygments_lexer": "ipython3",
   "version": "3.11.7"
  }
 },
 "nbformat": 4,
 "nbformat_minor": 4
}
